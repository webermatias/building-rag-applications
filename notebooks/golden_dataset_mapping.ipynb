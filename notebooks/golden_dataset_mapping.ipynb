{
 "cells": [
  {
   "cell_type": "code",
   "execution_count": 15,
   "metadata": {},
   "outputs": [],
   "source": [
    "import pandas as pd"
   ]
  },
  {
   "cell_type": "code",
   "execution_count": 16,
   "metadata": {},
   "outputs": [],
   "source": [
    "import sys\n",
    "sys.path.append('../')\n",
    "\n",
    "#load from local .env file\n",
    "from dotenv import load_dotenv, find_dotenv\n",
    "load_dotenv(find_dotenv(), override=True)\n",
    "\n",
    "#external files\n",
    "from src.preprocessor.preprocessing import FileIO\n",
    "from src.database.weaviate_interface_v4 import WeaviateIndexer, WeaviateWCS\n",
    "from src.database.database_utils import get_weaviate_client\n",
    "\n",
    "#standards\n",
    "import os\n",
    "import time\n",
    "import json\n",
    "from typing import List\n",
    "from tqdm import tqdm\n",
    "from rich import print  # nice library that provides improved printing output (overrides default print function)"
   ]
  },
  {
   "cell_type": "code",
   "execution_count": 17,
   "metadata": {},
   "outputs": [
    {
     "name": "stderr",
     "output_type": "stream",
     "text": [
      "/tmp/ipykernel_79934/1743431217.py:7: ResourceWarning: unclosed <ssl.SSLSocket fd=56, family=AddressFamily.AF_INET, type=SocketKind.SOCK_STREAM, proto=6, laddr=('172.17.0.2', 36874), raddr=('35.201.124.182', 443)>\n",
      "  client = WeaviateWCS(endpoint=url, api_key=api_key, model_name_or_path=model_path, skip_init_checks=True)\n",
      "ResourceWarning: Enable tracemalloc to get the object allocation traceback\n"
     ]
    },
    {
     "data": {
      "text/plain": [
       "True"
      ]
     },
     "execution_count": 17,
     "metadata": {},
     "output_type": "execute_result"
    }
   ],
   "source": [
    "#read env vars from local .env file\n",
    "api_key = os.environ['WEAVIATE_API_KEY']\n",
    "url = os.environ['WEAVIATE_ENDPOINT']\n",
    "model_path = 'sentence-transformers/all-MiniLM-L6-v2'\n",
    "\n",
    "#instantiate client, \n",
    "client = WeaviateWCS(endpoint=url, api_key=api_key, model_name_or_path=model_path, skip_init_checks=True)\n",
    "client._client.is_live()"
   ]
  },
  {
   "cell_type": "code",
   "execution_count": 53,
   "metadata": {},
   "outputs": [
    {
     "name": "stderr",
     "output_type": "stream",
     "text": [
      "/tmp/ipykernel_79934/4228979707.py:10: ResourceWarning: unclosed <ssl.SSLSocket fd=60, family=AddressFamily.AF_INET, type=SocketKind.SOCK_STREAM, proto=6, laddr=('172.17.0.2', 55204), raddr=('35.201.124.182', 443)>\n",
      "  retriever = get_weaviate_client(skip_init_checks=True)\n",
      "ResourceWarning: Enable tracemalloc to get the object allocation traceback\n"
     ]
    }
   ],
   "source": [
    "from src.evaluation.retrieval_evaluation import calc_hit_rate_scores, calc_mrr_scores, record_results\n",
    "from src.database.weaviate_interface_v4 import WeaviateWCS\n",
    "from src.database.database_utils import get_weaviate_client\n",
    "from src.preprocessor.preprocessing import FileIO\n",
    "\n",
    "CHUNK_SIZE = 128\n",
    "\n",
    "data_path = f'data/golden_datasets/golden_{CHUNK_SIZE}.json'\n",
    "golden_dataset = FileIO.load_json(data_path)\n",
    "retriever = get_weaviate_client(skip_init_checks=True)\n",
    "collection_name = f'Huberman_minilm_{CHUNK_SIZE}'\n"
   ]
  },
  {
   "cell_type": "code",
   "execution_count": 54,
   "metadata": {},
   "outputs": [],
   "source": [
    "#get properties that are part of the class\n",
    "display_properties = [prop.name for prop in client.show_collection_properties(collection_name)]\n",
    "display_properties.remove('summary')\n",
    "display_properties.remove('keywords')"
   ]
  },
  {
   "cell_type": "code",
   "execution_count": 55,
   "metadata": {},
   "outputs": [],
   "source": [
    "doc_id_mapping = {}\n",
    "new_golden_dataset = golden_dataset\n",
    "for doc_id in golden_dataset['corpus'].keys():\n",
    "    query = golden_dataset['corpus'][doc_id]\n",
    "    response = client.keyword_search(request=query,\n",
    "                                 collection_name=collection_name,\n",
    "                                 query_properties=['content'],\n",
    "                                 limit=1,\n",
    "                                 filter=None,\n",
    "                                 return_properties=display_properties,\n",
    "                                 return_raw=False)\n",
    "    doc_id_mapping[doc_id] = response[0]['doc_id']\n",
    "    new_golden_dataset['corpus'][doc_id] = response[0]['content']\n",
    "\n",
    "for query_id in new_golden_dataset['relevant_docs'].keys():\n",
    "    new_golden_dataset['relevant_docs'][query_id] = doc_id_mapping[new_golden_dataset['relevant_docs'][query_id]]"
   ]
  },
  {
   "cell_type": "code",
   "execution_count": 56,
   "metadata": {},
   "outputs": [],
   "source": [
    "file_path = f'data/golden_datasets/golden_{CHUNK_SIZE}_mapped.json'\n",
    "\n",
    "with open(file_path, 'w') as json_file:\n",
    "    json.dump(new_golden_dataset, json_file, indent=4)"
   ]
  },
  {
   "cell_type": "code",
   "execution_count": null,
   "metadata": {},
   "outputs": [],
   "source": []
  }
 ],
 "metadata": {
  "kernelspec": {
   "display_name": "Python 3 (ipykernel)",
   "language": "python",
   "name": "python3"
  },
  "language_info": {
   "codemirror_mode": {
    "name": "ipython",
    "version": 3
   },
   "file_extension": ".py",
   "mimetype": "text/x-python",
   "name": "python",
   "nbconvert_exporter": "python",
   "pygments_lexer": "ipython3",
   "version": "3.10.15"
  }
 },
 "nbformat": 4,
 "nbformat_minor": 2
}
