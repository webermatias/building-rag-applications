{
 "cells": [
  {
   "cell_type": "markdown",
   "id": "83a8df66",
   "metadata": {},
   "source": [
    "<br>  \n",
    "\n",
    "# **OPTIONAL: OpenAI Ada Embeddings\n",
    "***\n",
    "## **WARNING: HIGHLY RECOMMEND THAT YOU RUN THIS EXERCISE LOCALLY.  \n",
    "## THE EMBEDDINGS GENERATED TAKE UP 250MB OF DISK SPACE AND WILL TAKE OVER 30 MINUTES TO DOWNLOAD FROM GOOGLE COLAB\n",
    "\n",
    "This optional section explores the process for creating text embeddings using the powerful OpenAI model `text-embedding-ada-002`.  For additional details about this process see the OpenAI [Embeddings documentation](https://platform.openai.com/docs/guides/embeddings/what-are-embeddings). \n",
    "\n",
    "### Overview\n",
    "\n",
    "Even if you don't plan on using the `text-embedding-ada-002` model for your particular use case, this exercise will, at the very least, provide you with a basis for comparison against one of the most popular (currently) embeddings frameworks on the commercial market.  While there are several ways to approach embeddings creation through the OpenAI API, we will use the code provided by LlamaIndex, as it is one the cleanest implementations that I've seen.  The output from this exercise will be a pandas DataFrame of text/vector pairs similar to what we derived from Assignment 1.2. "
   ]
  },
  {
   "cell_type": "code",
   "execution_count": 1,
   "id": "49fa5ca1",
   "metadata": {},
   "outputs": [],
   "source": [
    "#!pip install llama-index"
   ]
  },
  {
   "cell_type": "code",
   "execution_count": 19,
   "id": "e46649f7",
   "metadata": {},
   "outputs": [],
   "source": [
    "import os\n",
    "import json\n",
    "import openai\n",
    "import tiktoken\n",
    "from tiktoken import Encoding\n",
    "from typing import Union, List, Tuple\n",
    "from getpass import getpass\n",
    "from tqdm import tqdm\n",
    "import pandas as pd\n",
    "from dotenv import load_dotenv, find_dotenv\n",
    "_ = load_dotenv(find_dotenv(), override=True)"
   ]
  },
  {
   "cell_type": "code",
   "execution_count": 4,
   "id": "5045aa12",
   "metadata": {},
   "outputs": [],
   "source": [
    "#set api key\n",
    "openai.api_key = os.environ['OPENAI_API_KEY']\n",
    "\n",
    "# alternatively use copy/paste\n",
    "# openai.api_key = getpass(prompt='Enter your OpenAI API key')"
   ]
  },
  {
   "cell_type": "markdown",
   "id": "c4a82dc1",
   "metadata": {},
   "source": [
    "### Instantiate tokenizer/encoder"
   ]
  },
  {
   "cell_type": "code",
   "execution_count": 7,
   "id": "320f81e2",
   "metadata": {},
   "outputs": [],
   "source": [
    "#define the model we want to use for the tokenizer\n",
    "model_type = \"text-embedding-3-small\"\n",
    "encoding = tiktoken.encoding_for_model(model_type)"
   ]
  },
  {
   "cell_type": "markdown",
   "id": "d7cf19d2",
   "metadata": {},
   "source": [
    "### Load raw data"
   ]
  },
  {
   "cell_type": "code",
   "execution_count": 8,
   "id": "a27e5f25",
   "metadata": {},
   "outputs": [],
   "source": [
    "data_path='../../data/huberman_labs.json'\n",
    "with open(data_path) as f:\n",
    "    data = json.load(f)"
   ]
  },
  {
   "cell_type": "markdown",
   "id": "d6b32086",
   "metadata": {},
   "source": [
    "### Extract contents"
   ]
  },
  {
   "cell_type": "code",
   "execution_count": 9,
   "id": "0ebb4f63",
   "metadata": {},
   "outputs": [],
   "source": [
    "#only need the contents from our data\n",
    "contents = [d['content'] for d in data]"
   ]
  },
  {
   "cell_type": "markdown",
   "id": "adf2719b",
   "metadata": {},
   "source": [
    "### Split contents"
   ]
  },
  {
   "cell_type": "code",
   "execution_count": 10,
   "id": "eece0355",
   "metadata": {},
   "outputs": [
    {
     "name": "stderr",
     "output_type": "stream",
     "text": [
      "100%|███████████████████████████████████████████████████████████████████████████████████████████████████████████████████████████████████████████████████████████████████████████████████████████████████████████████████| 193/193 [00:19<00:00,  9.73it/s]\n"
     ]
    }
   ],
   "source": [
    "from llama_index.text_splitter import SentenceSplitter #one of the best on the market\n",
    "\n",
    "# #set chunk size and instantiate your SentenceSplitter\n",
    "chunk_size = 256\n",
    "gpt35_txt_splitter = SentenceSplitter(chunk_size=chunk_size, tokenizer=encoding.encode, chunk_overlap=0)\n",
    "splits = [gpt35_txt_splitter.split_text(episode) for episode in tqdm(contents)]"
   ]
  },
  {
   "cell_type": "markdown",
   "id": "0cf15be5",
   "metadata": {},
   "source": [
    "### Estimate cost of job\n",
    "\n",
    "As a best practice, it's always a good idea to estimate the cost of using OpenAI **prior** to kicking off a job.  The `get_cost` function does just that.  It takes an encoder, which we defined previously, and a corpus, and allows the user to set the price per 1M tokens.  The price will change depending on what action you're looking to take, but the default is $0.02 / 1M tokens which is the current (Apr 2024) cost for using the `text-embedding-3-small` endpoint. "
   ]
  },
  {
   "cell_type": "code",
   "execution_count": 11,
   "id": "6089cf47",
   "metadata": {},
   "outputs": [],
   "source": [
    "#should match previously calculated token count for corpus\n",
    "def get_cost(encoder: Encoding, \n",
    "             corpus: Union[str, List[str]], \n",
    "             price: float=0.02, \n",
    "             return_tokens: bool=False\n",
    "             ) -> Union[float, Tuple[float, List[int]]]:\n",
    "    '''\n",
    "    Given a text encoder and a corpus of text, this function will calculate the total \n",
    "    cost, as determined by the price param, of using the OpenAI API. The price is \n",
    "    per 1,000 tokens. \n",
    "    '''\n",
    "    if isinstance(corpus, str):\n",
    "        encoded = encoder.encode(corpus)\n",
    "        token_count = len(encoded)\n",
    "    elif isinstance(corpus, list):\n",
    "        encoded = encoder.encode_batch(corpus)\n",
    "        token_count = sum(list(map(len, encoded)))\n",
    "    print(f'Total Tokens: {token_count}')\n",
    "    cost = token_count//1_000_000 * price\n",
    "    print(f'Total Cost: ${cost:.2f}')\n",
    "    if return_tokens:\n",
    "        return cost, encoded\n",
    "    return cost"
   ]
  },
  {
   "cell_type": "code",
   "execution_count": 12,
   "id": "d8e6135e",
   "metadata": {},
   "outputs": [
    {
     "name": "stdout",
     "output_type": "stream",
     "text": [
      "Total Tokens: 5443407\n",
      "Total Cost: $0.10\n"
     ]
    },
    {
     "data": {
      "text/plain": [
       "0.1"
      ]
     },
     "execution_count": 12,
     "metadata": {},
     "output_type": "execute_result"
    }
   ],
   "source": [
    "get_cost(encoding, contents)"
   ]
  },
  {
   "cell_type": "markdown",
   "id": "80ec7a39",
   "metadata": {},
   "source": [
    "The Total Tokens should match the same number we derived when capturing analytics on our corpus earlier in the notebook.  At a price of \\\\$0.02 per 1M tokens, we can see that this text embeddings action should cost about \\\\$0.10 (10 cents). In preparation for this course I ran this exercise and can confirm that I was billed close to 10 cents to embed the entire Huberman Lab corpus. Below is a screenshot of my OpenAI usage page after completing this embeddings exercise. "
   ]
  },
  {
   "cell_type": "markdown",
   "id": "d17c1063",
   "metadata": {},
   "source": [
    "![embeddings usage](  data:image/png;base64,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)"
   ]
  },
  {
   "cell_type": "markdown",
   "id": "a9ccaaee",
   "metadata": {},
   "source": [
    "<div>\n",
    "    <img src=\"https://d1tlzifd8jdoy4.cloudfront.net/wp-content/uploads/2023/03/eyecatch-llamdaindex.png\" width=\"200\"/>\n",
    "</div>"
   ]
  },
  {
   "cell_type": "markdown",
   "id": "44143e03",
   "metadata": {},
   "source": [
    "### Get Embeddings (using LlamaIndex)\n",
    "\n",
    "To handle this job without using LlamaIndex is no small feat, you would have to account for the various rate limits that OpenAI has in place, which change depending on your pricing tier and the actions that you want to perform.  There are requests per minute (RPM), requests per day (RPD) and tokens per minute (TPM) rate limits to consider.  If you are at pricing Tier 1, for example, you'd have a TPM limit of 1,000,000 tokens per minute, so this job will take at least six minutes to complete.  See the [OpenAI Rate Limits page](https://platform.openai.com/docs/guides/rate-limits?context=tier-one) for additional detail. Thankfully, LlamaIndex handles all of these considerations under the hood.  I was able to complete this task in 2.5 minutes (your time may vary depending on your pricing tier). "
   ]
  },
  {
   "cell_type": "markdown",
   "id": "75e5c4aa-11d2-45ae-9908-dde8033a9c57",
   "metadata": {},
   "source": [
    "# VERY IMPORTANT: \n",
    "- **Run the below pip install cell for the remainding of the cells to function properly**"
   ]
  },
  {
   "cell_type": "code",
   "execution_count": 1,
   "id": "9932f041-791b-4f16-b130-2378a5da950a",
   "metadata": {},
   "outputs": [],
   "source": [
    "%pip install llama-index-embeddings-openai"
   ]
  },
  {
   "cell_type": "code",
   "execution_count": 13,
   "id": "d2e8541d",
   "metadata": {},
   "outputs": [],
   "source": [
    "from llama_index.embeddings.openai import OpenAIEmbedding"
   ]
  },
  {
   "cell_type": "code",
   "execution_count": 14,
   "id": "a8c63728",
   "metadata": {},
   "outputs": [],
   "source": [
    "model_type = \"text-embedding-3-small\"\n",
    "embed_model = OpenAIEmbedding(model=model_type, embed_batch_size=150, api_key=openai.api_key)"
   ]
  },
  {
   "cell_type": "markdown",
   "id": "c3bd2470",
   "metadata": {},
   "source": [
    "### Flatten Content \n",
    "This part is very important because the `get_text_embedding_batch` method only accepts a list of strings as an arg.  This batch feature is very convenient though because it allows the user to dump their entire corpus into the function at one go and allow the code to perform all the heavy lifting. "
   ]
  },
  {
   "cell_type": "code",
   "execution_count": 15,
   "id": "2f700060",
   "metadata": {},
   "outputs": [],
   "source": [
    "#converts list of lists of text (strings) into a single list of text (strings)\n",
    "flattened_content = [chunk for alist in splits for chunk in alist]"
   ]
  },
  {
   "cell_type": "code",
   "execution_count": 16,
   "id": "e4292947",
   "metadata": {},
   "outputs": [
    {
     "data": {
      "application/vnd.jupyter.widget-view+json": {
       "model_id": "ecedfa0e7ba8423bb1f751a74185d403",
       "version_major": 2,
       "version_minor": 0
      },
      "text/plain": [
       "Generating embeddings:   0%|          | 0/23905 [00:00<?, ?it/s]"
      ]
     },
     "metadata": {},
     "output_type": "display_data"
    },
    {
     "name": "stdout",
     "output_type": "stream",
     "text": [
      "CPU times: user 55.3 s, sys: 1.09 s, total: 56.4 s\n",
      "Wall time: 3min 43s\n"
     ]
    }
   ],
   "source": [
    "%%time\n",
    "#get ada embeddings\n",
    "ada_embs = embed_model.get_text_embedding_batch(flattened_content, show_progress=True)"
   ]
  },
  {
   "cell_type": "code",
   "execution_count": 17,
   "id": "0c9111bd",
   "metadata": {},
   "outputs": [
    {
     "data": {
      "text/plain": [
       "(1536, 23905)"
      ]
     },
     "execution_count": 17,
     "metadata": {},
     "output_type": "execute_result"
    }
   ],
   "source": [
    "len(ada_embs[0]), len(ada_embs)"
   ]
  },
  {
   "cell_type": "code",
   "execution_count": 20,
   "id": "e5dcef73",
   "metadata": {},
   "outputs": [],
   "source": [
    "#convert output to DataFrame to visualize and then save results as parquet\n",
    "llama_df = pd.DataFrame({'text': flattened_content, 'embeddings': ada_embs})"
   ]
  },
  {
   "cell_type": "code",
   "execution_count": 21,
   "id": "c8511746",
   "metadata": {},
   "outputs": [
    {
     "data": {
      "text/html": [
       "<div>\n",
       "<style scoped>\n",
       "    .dataframe tbody tr th:only-of-type {\n",
       "        vertical-align: middle;\n",
       "    }\n",
       "\n",
       "    .dataframe tbody tr th {\n",
       "        vertical-align: top;\n",
       "    }\n",
       "\n",
       "    .dataframe thead th {\n",
       "        text-align: right;\n",
       "    }\n",
       "</style>\n",
       "<table border=\"1\" class=\"dataframe\">\n",
       "  <thead>\n",
       "    <tr style=\"text-align: right;\">\n",
       "      <th></th>\n",
       "      <th>text</th>\n",
       "      <th>embeddings</th>\n",
       "    </tr>\n",
       "  </thead>\n",
       "  <tbody>\n",
       "    <tr>\n",
       "      <th>0</th>\n",
       "      <td>Welcome to the Huberman Lab guest series, wher...</td>\n",
       "      <td>[-0.016802597790956497, 0.009319441393017769, ...</td>\n",
       "    </tr>\n",
       "    <tr>\n",
       "      <th>1</th>\n",
       "      <td>Everything from how to time lighting, temperat...</td>\n",
       "      <td>[-0.015030869282782078, 0.0029890933074057102,...</td>\n",
       "    </tr>\n",
       "    <tr>\n",
       "      <th>2</th>\n",
       "      <td>Walker and I are very excited to share the mat...</td>\n",
       "      <td>[0.024327721446752548, -0.018102295696735382, ...</td>\n",
       "    </tr>\n",
       "    <tr>\n",
       "      <th>3</th>\n",
       "      <td>Eight Sleep makes it very easy to control the ...</td>\n",
       "      <td>[-0.02637663669884205, -0.012036561965942383, ...</td>\n",
       "    </tr>\n",
       "    <tr>\n",
       "      <th>4</th>\n",
       "      <td>Initially, I had to do therapy against my will...</td>\n",
       "      <td>[-0.00573450094088912, 0.0025355173274874687, ...</td>\n",
       "    </tr>\n",
       "    <tr>\n",
       "      <th>...</th>\n",
       "      <td>...</td>\n",
       "      <td>...</td>\n",
       "    </tr>\n",
       "    <tr>\n",
       "      <th>23900</th>\n",
       "      <td>We're also going to talk about the data that s...</td>\n",
       "      <td>[0.038870275020599365, 0.02036392129957676, -0...</td>\n",
       "    </tr>\n",
       "    <tr>\n",
       "      <th>23901</th>\n",
       "      <td>Welcome to the Huberman Lab Podcast, where we ...</td>\n",
       "      <td>[-0.043441202491521835, -0.009469881653785706,...</td>\n",
       "    </tr>\n",
       "    <tr>\n",
       "      <th>23902</th>\n",
       "      <td>So for instance, we might take an entire month...</td>\n",
       "      <td>[-0.0029817409813404083, 0.04232102259993553, ...</td>\n",
       "    </tr>\n",
       "    <tr>\n",
       "      <th>23903</th>\n",
       "      <td>So the comment section is a place for you to g...</td>\n",
       "      <td>[0.004597767256200314, 0.036923717707395554, -...</td>\n",
       "    </tr>\n",
       "    <tr>\n",
       "      <th>23904</th>\n",
       "      <td>Still other tools relate to things like nutrit...</td>\n",
       "      <td>[0.028126392513513565, 0.016591668128967285, -...</td>\n",
       "    </tr>\n",
       "  </tbody>\n",
       "</table>\n",
       "<p>23905 rows × 2 columns</p>\n",
       "</div>"
      ],
      "text/plain": [
       "                                                    text  \\\n",
       "0      Welcome to the Huberman Lab guest series, wher...   \n",
       "1      Everything from how to time lighting, temperat...   \n",
       "2      Walker and I are very excited to share the mat...   \n",
       "3      Eight Sleep makes it very easy to control the ...   \n",
       "4      Initially, I had to do therapy against my will...   \n",
       "...                                                  ...   \n",
       "23900  We're also going to talk about the data that s...   \n",
       "23901  Welcome to the Huberman Lab Podcast, where we ...   \n",
       "23902  So for instance, we might take an entire month...   \n",
       "23903  So the comment section is a place for you to g...   \n",
       "23904  Still other tools relate to things like nutrit...   \n",
       "\n",
       "                                              embeddings  \n",
       "0      [-0.016802597790956497, 0.009319441393017769, ...  \n",
       "1      [-0.015030869282782078, 0.0029890933074057102,...  \n",
       "2      [0.024327721446752548, -0.018102295696735382, ...  \n",
       "3      [-0.02637663669884205, -0.012036561965942383, ...  \n",
       "4      [-0.00573450094088912, 0.0025355173274874687, ...  \n",
       "...                                                  ...  \n",
       "23900  [0.038870275020599365, 0.02036392129957676, -0...  \n",
       "23901  [-0.043441202491521835, -0.009469881653785706,...  \n",
       "23902  [-0.0029817409813404083, 0.04232102259993553, ...  \n",
       "23903  [0.004597767256200314, 0.036923717707395554, -...  \n",
       "23904  [0.028126392513513565, 0.016591668128967285, -...  \n",
       "\n",
       "[23905 rows x 2 columns]"
      ]
     },
     "execution_count": 21,
     "metadata": {},
     "output_type": "execute_result"
    }
   ],
   "source": [
    "llama_df"
   ]
  },
  {
   "cell_type": "code",
   "execution_count": null,
   "id": "a335e7ef",
   "metadata": {},
   "outputs": [],
   "source": [
    "#save as parquet for later use\n",
    "# llama_df.to_parquet('./impact_theory_ada_embs.parquet', index=False)"
   ]
  },
  {
   "cell_type": "markdown",
   "id": "b9b92f80-9d3d-45fd-ba3c-8d39395065a3",
   "metadata": {},
   "source": [
    "## Join metadata to text/vector pairs"
   ]
  },
  {
   "cell_type": "markdown",
   "id": "4beaa329",
   "metadata": {},
   "source": [
    "The remaining part of joining the text/vector pairs with the episode metadata is left as an exercise to the user.  Something to keep in mind is that the pairs are no longer chunked as episodes, so keep that in mind when joining back with episode metadata.  Also, **very important** if you want to compare the effectiveness of these embeddings against other embedding methods (`all-MiniLM-L6-v2`) make sure that you use the same `doc_ids` that you created when completing Assignment 1.3.  The `doc_ids` will be used as our term of measurement when doing Retrieval Evaluation in Notebook 3 of the course. "
   ]
  }
 ],
 "metadata": {
  "kernelspec": {
   "display_name": "vsa",
   "language": "python",
   "name": "vsa"
  },
  "language_info": {
   "codemirror_mode": {
    "name": "ipython",
    "version": 3
   },
   "file_extension": ".py",
   "mimetype": "text/x-python",
   "name": "python",
   "nbconvert_exporter": "python",
   "pygments_lexer": "ipython3",
   "version": "3.10.0"
  }
 },
 "nbformat": 4,
 "nbformat_minor": 5
}
