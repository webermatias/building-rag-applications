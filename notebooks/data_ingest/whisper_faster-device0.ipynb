{
 "cells": [
  {
   "cell_type": "code",
   "execution_count": 2,
   "id": "aa24bf15-dff0-457c-ae96-c9514bd2cd26",
   "metadata": {},
   "outputs": [],
   "source": [
    "from faster_whisper import WhisperModel\n",
    "from tqdm import tqdm\n",
    "import os\n",
    "import time\n",
    "from typing import List\n",
    "import pandas as pd\n",
    "import json\n",
    "import re"
   ]
  },
  {
   "cell_type": "markdown",
   "id": "2252a899-4483-4c42-a662-f228113b093e",
   "metadata": {},
   "source": [
    "### Load cache of metadata"
   ]
  },
  {
   "cell_type": "code",
   "execution_count": 3,
   "id": "9e69fc7f-b663-4715-88df-8d965a3f6e95",
   "metadata": {},
   "outputs": [],
   "source": [
    "with open('./data/huberman_meta.json') as f:\n",
    "    data = json.loads(f.read())"
   ]
  },
  {
   "cell_type": "code",
   "execution_count": 5,
   "id": "3b3ff355-e676-4ffa-b53e-9d2eedb337d0",
   "metadata": {},
   "outputs": [],
   "source": [
    "cache = {d['videoId'] : d for d in data}"
   ]
  },
  {
   "cell_type": "markdown",
   "id": "cdda35a3-5735-4443-a2ed-9727e0c9072e",
   "metadata": {},
   "source": [
    "### Upload model"
   ]
  },
  {
   "cell_type": "code",
   "execution_count": 7,
   "id": "4b73004f-f0e8-4559-b9d9-8e1362722b6e",
   "metadata": {},
   "outputs": [],
   "source": [
    "model = WhisperModel(model_size_or_path='large-v2', device='cuda', device_index=0, compute_type='float16')"
   ]
  },
  {
   "cell_type": "code",
   "execution_count": 8,
   "id": "f4b9bcca-f7c7-41db-a4fb-646d21fcd8fb",
   "metadata": {},
   "outputs": [
    {
     "data": {
      "text/plain": [
       "['./data/videos/huberman/GpgqXCkRO-w.mp4',\n",
       " './data/videos/huberman/ccrbE0QHy94.mp4',\n",
       " './data/videos/huberman/n28W4AmvMDE.mp4']"
      ]
     },
     "execution_count": 8,
     "metadata": {},
     "output_type": "execute_result"
    }
   ],
   "source": [
    "video_dir = './data/videos/huberman/'\n",
    "files = sorted([os.path.join(video_dir, file) for file in os.listdir(video_dir) if file.endswith('mp4')])\n",
    "transcript_dir = './data/video/huberman/transcripts/'\n",
    "files"
   ]
  },
  {
   "cell_type": "code",
   "execution_count": 3,
   "id": "14118e5b-951e-45f1-83db-8a982f72629e",
   "metadata": {},
   "outputs": [],
   "source": [
    "def transcribe_podcast(whisper_model: WhisperModel, \n",
    "                       file_path: str,\n",
    "                       outpath_dir: str,\n",
    "                       cache: dict,\n",
    "                       combine_metadata: bool=True\n",
    "                       ) -> List[dict]:\n",
    "    '''\n",
    "    Transcribes single podcast given podcast metadata which includes path to \n",
    "    where podcast mp3 file is stored. \n",
    "    '''\n",
    "    \n",
    "    start = time.perf_counter()\n",
    "    video_id = os.path.splitext(os.path.split(file_path)[-1])[0]\n",
    "    metadata = cache[video_id]\n",
    "    title = metadata['title']\n",
    "    print(f'Processing Title: {title}')\n",
    "    segments, _ = whisper_model.transcribe(file_path, beam_size=5, word_timestamps=False)\n",
    "    segments = list(segments)\n",
    "    # transcript = [{'start': seg.start, 'end': seg.end, 'text':seg.text} for seg in segments]\n",
    "    transcript = ' '.join([seg.text.strip() for seg in segments])\n",
    "    end = time.perf_counter() - start\n",
    "    print(f'Transcription completed in {end:0.2f} seconds.')\n",
    "\n",
    "    #create method to write transcript to disk\n",
    "    \n",
    "    if combine_metadata:\n",
    "        metadata.update(text=transcript)\n",
    "        save_path = os.path.join(outpath_dir, video_id) + '.json'\n",
    "        with open(save_path, 'w') as f:\n",
    "            json.dump(metadata, f)\n",
    "        return metadata\n",
    "        \n",
    "    else: return transcript"
   ]
  },
  {
   "cell_type": "code",
   "execution_count": null,
   "id": "a2b4a5d3-2d9e-4106-a5d9-0a6d2d33e2e7",
   "metadata": {},
   "outputs": [
    {
     "name": "stdout",
     "output_type": "stream",
     "text": [
      "Processing Title: Rick Rubin: Protocols to Access Creative Energy and Process\n"
     ]
    }
   ],
   "source": [
    "transcribe_podcast(model, files[0], outpath_dir='./data/videos/huberman/', cache=cache)"
   ]
  },
  {
   "cell_type": "code",
   "execution_count": null,
   "id": "e42d4b2c-e318-4c79-aa48-40b877c30fcc",
   "metadata": {},
   "outputs": [],
   "source": []
  },
  {
   "cell_type": "code",
   "execution_count": null,
   "id": "bcda4bdc-669a-4cec-9009-cd214112294f",
   "metadata": {},
   "outputs": [],
   "source": []
  },
  {
   "cell_type": "code",
   "execution_count": null,
   "id": "f5427ef8-9705-4c98-9f42-67aa9cd589d0",
   "metadata": {},
   "outputs": [],
   "source": []
  },
  {
   "cell_type": "code",
   "execution_count": null,
   "id": "b389c2f2-098f-4232-8f2d-0204a0e73d76",
   "metadata": {},
   "outputs": [],
   "source": []
  },
  {
   "cell_type": "code",
   "execution_count": null,
   "id": "1bbaa544-e2c2-4a44-8faf-bb7e4c90fb06",
   "metadata": {},
   "outputs": [],
   "source": []
  },
  {
   "cell_type": "code",
   "execution_count": null,
   "id": "30fc8855-3b65-449d-b5d9-0f60e90d2346",
   "metadata": {},
   "outputs": [],
   "source": []
  },
  {
   "cell_type": "code",
   "execution_count": null,
   "id": "b8d6fda9-a041-482d-b5ce-5f9493a9cced",
   "metadata": {},
   "outputs": [],
   "source": []
  },
  {
   "cell_type": "code",
   "execution_count": 16,
   "id": "17a93787-855d-44ec-b0e9-27613ca5a544",
   "metadata": {},
   "outputs": [],
   "source": [
    "def transcribe_podcast(whisper_model: WhisperModel, \n",
    "                       file_path: str,\n",
    "                       outpath_dir: str,\n",
    "                       cache: dict,\n",
    "                       combine_metadata: bool=True\n",
    "                       ) -> List[dict]:\n",
    "    '''\n",
    "    Transcribes single podcast given podcast metadata which includes path to \n",
    "    where podcast mp3 file is stored. \n",
    "    '''\n",
    "    \n",
    "    start = time.perf_counter()\n",
    "    video_id = os.path.splitext(os.path.split(file_path)[-1])[0]\n",
    "    print(video_id)\n",
    "    metadata = cache[id]\n",
    "    title = metadata['title']\n",
    "    episode = re.findall('[0-9]+', title.strip()[:3])[0]\n",
    "    print(f'Processing episode #{episode}\\t Title: {title}')\n",
    "    segments, _ = whisper_model.transcribe(file_path, beam_size=5, word_timestamps=False)\n",
    "    segments = list(segments)\n",
    "    # transcript = [{'start': seg.start, 'end': seg.end, 'text':seg.text} for seg in segments]\n",
    "    transcript = ' '.join([seg.text.strip() for seg in segments])\n",
    "    end = time.perf_counter() - start\n",
    "    print(f'Transcription completed in {end:0.2f} seconds.')\n",
    "\n",
    "    #create method to write transcript to disk\n",
    "    \n",
    "    if combine_metadata:\n",
    "        metadata.update(text=transcript)\n",
    "        filename = os.path.splitext(os.path.split(path)[-1])[0]\n",
    "        save_path = os.path.join(outpath_dir, filename) + '.json'\n",
    "        with open(save_path, 'w') as f:\n",
    "            json.dump(metadata, f)\n",
    "        return metadata\n",
    "        \n",
    "    else: return transcript"
   ]
  },
  {
   "cell_type": "markdown",
   "id": "7b152a39-a8d4-426b-bcf4-6d40de0d7a24",
   "metadata": {},
   "source": [
    "### Get Data Paths"
   ]
  },
  {
   "cell_type": "code",
   "execution_count": 7,
   "id": "daa5fe7d-32c2-4a8f-87be-eb9f3bdbf3c9",
   "metadata": {},
   "outputs": [
    {
     "data": {
      "text/plain": [
       "['./data/videos/huberman/GpgqXCkRO-w.mp4',\n",
       " './data/videos/huberman/ccrbE0QHy94.mp4',\n",
       " './data/videos/huberman/n28W4AmvMDE.mp4']"
      ]
     },
     "execution_count": 7,
     "metadata": {},
     "output_type": "execute_result"
    }
   ],
   "source": [
    "video_dir = './data/videos/huberman/'\n",
    "files = sorted([os.path.join(video_dir, file) for file in os.listdir(video_dir) if file.endswith('mp4')])\n",
    "transcript_dir = './data/video/huberman/transcripts/'\n",
    "files"
   ]
  },
  {
   "cell_type": "code",
   "execution_count": 15,
   "id": "e533acfd-e081-431d-b7f7-fc50fb038615",
   "metadata": {},
   "outputs": [
    {
     "data": {
      "text/plain": [
       "'GpgqXCkRO-w'"
      ]
     },
     "execution_count": 15,
     "metadata": {},
     "output_type": "execute_result"
    }
   ],
   "source": [
    "os.path.splitext(os.path.split(files[0])[-1])[0]\n",
    "os.path.splitext(os.path.split(file_path)[-1])[0]"
   ]
  },
  {
   "cell_type": "code",
   "execution_count": 35,
   "id": "882516de-f3ae-493d-b666-72e57ad51334",
   "metadata": {},
   "outputs": [
    {
     "name": "stderr",
     "output_type": "stream",
     "text": [
      "\n",
      "  0%|                                                                                        | 0/64 [00:00<?, ?it/s]\u001b[A"
     ]
    },
    {
     "name": "stdout",
     "output_type": "stream",
     "text": [
      "Processing episode #100\t Title: 100- My Journey Healing From Depression\n"
     ]
    },
    {
     "name": "stderr",
     "output_type": "stream",
     "text": [
      "\n",
      "  2%|█▏                                                                           | 1/64 [02:57<3:06:47, 177.89s/it]\u001b[A"
     ]
    },
    {
     "name": "stdout",
     "output_type": "stream",
     "text": [
      "Transcription completed in 177.89 seconds.\n",
      "Processing episode #101\t Title: 101- Are Your Adrenals The Cause of Your Weight Gain and Exhaustion w/ Kristen Files\n"
     ]
    },
    {
     "name": "stderr",
     "output_type": "stream",
     "text": [
      "\n",
      "  3%|██▍                                                                          | 2/64 [06:59<3:42:25, 215.26s/it]\u001b[A"
     ]
    },
    {
     "name": "stdout",
     "output_type": "stream",
     "text": [
      "Transcription completed in 241.41 seconds.\n",
      "Processing episode #102\t Title: 102- Are Trauma, Emotions, or Ancestral Health Hurting Your Gut w/ Dr. Will Cole\n"
     ]
    },
    {
     "name": "stderr",
     "output_type": "stream",
     "text": [
      "\n",
      "  5%|███▌                                                                         | 3/64 [10:32<3:38:02, 214.47s/it]\u001b[A"
     ]
    },
    {
     "name": "stdout",
     "output_type": "stream",
     "text": [
      "Transcription completed in 213.53 seconds.\n",
      "Processing episode #103\t Title: 103- Is It Your Mindset That’s Making You Sick? w/ Juanique Roney\n"
     ]
    },
    {
     "name": "stderr",
     "output_type": "stream",
     "text": [
      "\n",
      "  6%|████▊                                                                        | 4/64 [14:35<3:45:46, 225.77s/it]\u001b[A"
     ]
    },
    {
     "name": "stdout",
     "output_type": "stream",
     "text": [
      "Transcription completed in 243.09 seconds.\n",
      "Processing episode #104\t Title: 104- How Functional Medicine Helped To Save My Life w/ Taylor Dukes\n"
     ]
    },
    {
     "name": "stderr",
     "output_type": "stream",
     "text": [
      "\n",
      "  8%|██████                                                                       | 5/64 [18:05<3:36:17, 219.95s/it]\u001b[A"
     ]
    },
    {
     "name": "stdout",
     "output_type": "stream",
     "text": [
      "Transcription completed in 209.64 seconds.\n",
      "Processing episode #105\t Title: 105 - Do You Know Which Foods Help Each Stage of Your Cycle? w/ Candace Burch & Jess Suchan\n"
     ]
    },
    {
     "name": "stderr",
     "output_type": "stream",
     "text": [
      "\n",
      "  9%|███████▏                                                                     | 6/64 [22:44<3:51:57, 239.95s/it]\u001b[A"
     ]
    },
    {
     "name": "stdout",
     "output_type": "stream",
     "text": [
      "Transcription completed in 278.76 seconds.\n",
      "Processing episode #106\t Title: 106 - 7 Reasons to Choose a Natural Health Approach w/ Shane and Lizz Watt\n"
     ]
    },
    {
     "name": "stderr",
     "output_type": "stream",
     "text": [
      "\n",
      " 11%|████████▍                                                                    | 7/64 [25:59<3:34:03, 225.32s/it]\u001b[A"
     ]
    },
    {
     "name": "stdout",
     "output_type": "stream",
     "text": [
      "Transcription completed in 195.19 seconds.\n",
      "Processing episode #107\t Title: 107 - If trapped emotions are making us sick, how do we release them? with Dr. G\n"
     ]
    },
    {
     "name": "stderr",
     "output_type": "stream",
     "text": [
      "\n",
      " 12%|█████████▋                                                                   | 8/64 [30:46<3:48:32, 244.86s/it]\u001b[A"
     ]
    },
    {
     "name": "stdout",
     "output_type": "stream",
     "text": [
      "Transcription completed in 286.72 seconds.\n",
      "Processing episode #108\t Title: 108 - Is Glyphosate Okay To Eat? Is It Doing Anything To Our Health? w/ Andrew Kimbrell\n"
     ]
    },
    {
     "name": "stderr",
     "output_type": "stream",
     "text": [
      "\n",
      " 14%|██████████▊                                                                  | 9/64 [34:41<3:41:44, 241.90s/it]\u001b[A"
     ]
    },
    {
     "name": "stdout",
     "output_type": "stream",
     "text": [
      "Transcription completed in 235.39 seconds.\n",
      "Processing episode #109\t Title: 109 - Sunscreen vs. Sunblock, Melasma Help, And Summer First Aid Tips w/ Phil Cowley\n"
     ]
    },
    {
     "name": "stderr",
     "output_type": "stream",
     "text": [
      "\n",
      " 16%|███████████▉                                                                | 10/64 [38:02<3:26:15, 229.18s/it]\u001b[A"
     ]
    },
    {
     "name": "stdout",
     "output_type": "stream",
     "text": [
      "Transcription completed in 200.69 seconds.\n",
      "Processing episode #10\t Title: 10 - Sterling Jones, CEO of JOJO's Chocolates\n"
     ]
    },
    {
     "name": "stderr",
     "output_type": "stream",
     "text": [
      "\n",
      " 17%|█████████████                                                               | 11/64 [40:10<2:55:13, 198.38s/it]\u001b[A"
     ]
    },
    {
     "name": "stdout",
     "output_type": "stream",
     "text": [
      "Transcription completed in 128.53 seconds.\n",
      "Processing episode #110\t Title: 110 - Could The Air In Your Home Be The Cause Of Your Health Issues? w/ Peter Spiegel\n"
     ]
    },
    {
     "name": "stderr",
     "output_type": "stream",
     "text": [
      "\n",
      " 19%|██████████████▎                                                             | 12/64 [43:03<2:45:11, 190.60s/it]\u001b[A"
     ]
    },
    {
     "name": "stdout",
     "output_type": "stream",
     "text": [
      "Transcription completed in 172.83 seconds.\n",
      "Processing episode #111\t Title: 111- Tips & Tricks You’ve Never Heard of For Bug Bites, Sunburns, Stomachaches, & More w/ Sara-Chana\n"
     ]
    },
    {
     "name": "stderr",
     "output_type": "stream",
     "text": [
      "\n",
      " 20%|███████████████▍                                                            | 13/64 [46:39<2:48:33, 198.31s/it]\u001b[A"
     ]
    },
    {
     "name": "stdout",
     "output_type": "stream",
     "text": [
      "Transcription completed in 216.04 seconds.\n",
      "Processing episode #112\t Title: 112 - What is Applied Kinesiology and Who Can It Benefit? w/ Dr. Calvin Ng\n"
     ]
    },
    {
     "name": "stderr",
     "output_type": "stream",
     "text": [
      "\n",
      " 22%|████████████████▋                                                           | 14/64 [50:01<2:46:00, 199.21s/it]\u001b[A"
     ]
    },
    {
     "name": "stdout",
     "output_type": "stream",
     "text": [
      "Transcription completed in 201.29 seconds.\n",
      "Processing episode #113\t Title: 113 - Using Your Stem Cells for Injury Healing and Anti-Aging w/ Dr. Harry Adelson\n"
     ]
    },
    {
     "name": "stderr",
     "output_type": "stream",
     "text": [
      "\n",
      " 23%|█████████████████▊                                                          | 15/64 [52:37<2:32:08, 186.29s/it]\u001b[A"
     ]
    },
    {
     "name": "stdout",
     "output_type": "stream",
     "text": [
      "Transcription completed in 156.34 seconds.\n",
      "Processing episode #114\t Title: 114 - Why Is Insulin Resistance Such a Health Problem Now? w/ Dr. Benjamin Bikman\n"
     ]
    },
    {
     "name": "stderr",
     "output_type": "stream",
     "text": [
      "\n",
      " 25%|███████████████████                                                         | 16/64 [57:05<2:48:48, 211.02s/it]\u001b[A"
     ]
    },
    {
     "name": "stdout",
     "output_type": "stream",
     "text": [
      "Transcription completed in 268.44 seconds.\n",
      "Processing episode #115\t Title: 115 - How Brain Inflammation is Impacting Kids' Health w/ Dr. Josh Redd\n"
     ]
    },
    {
     "name": "stderr",
     "output_type": "stream",
     "text": [
      "\n",
      " 27%|███████████████████▋                                                      | 17/64 [1:00:55<2:49:36, 216.52s/it]\u001b[A"
     ]
    },
    {
     "name": "stdout",
     "output_type": "stream",
     "text": [
      "Transcription completed in 229.33 seconds.\n",
      "Processing episode #116\t Title: 116 - What is Your Mouth Telling You About Your Health? w/ Dr. Michelle Jorgensen\n"
     ]
    },
    {
     "name": "stderr",
     "output_type": "stream",
     "text": [
      "\n",
      " 28%|████████████████████▊                                                     | 18/64 [1:04:51<2:50:39, 222.61s/it]\u001b[A"
     ]
    },
    {
     "name": "stdout",
     "output_type": "stream",
     "text": [
      "Transcription completed in 236.77 seconds.\n",
      "Processing episode #117\t Title: 117 - Is It Your Water That’s Making You Sick? w/ Trent Spafford\n"
     ]
    },
    {
     "name": "stderr",
     "output_type": "stream",
     "text": [
      "\n",
      " 30%|█████████████████████▉                                                    | 19/64 [1:08:16<2:42:53, 217.19s/it]\u001b[A"
     ]
    },
    {
     "name": "stdout",
     "output_type": "stream",
     "text": [
      "Transcription completed in 204.56 seconds.\n",
      "Processing episode #118\t Title: 118 - Debunking Fitness Myths and Training Smarter, Not Harder w/ Dr. Shannon Ritchey\n"
     ]
    },
    {
     "name": "stderr",
     "output_type": "stream",
     "text": [
      "\n",
      " 31%|███████████████████████▏                                                  | 20/64 [1:11:58<2:40:19, 218.62s/it]\u001b[A"
     ]
    },
    {
     "name": "stdout",
     "output_type": "stream",
     "text": [
      "Transcription completed in 221.96 seconds.\n",
      "Processing episode #119\t Title: 119 - Conquering Your Sleep Struggles w/ Dr. Michael Breus\n"
     ]
    },
    {
     "name": "stderr",
     "output_type": "stream",
     "text": [
      "\n",
      " 33%|████████████████████████▎                                                 | 21/64 [1:16:13<2:44:30, 229.55s/it]\u001b[A"
     ]
    },
    {
     "name": "stdout",
     "output_type": "stream",
     "text": [
      "Transcription completed in 255.03 seconds.\n",
      "Processing episode #11\t Title: 11 - Sarah Grace Meckelberg, tips on balancing hormones\n"
     ]
    },
    {
     "name": "stderr",
     "output_type": "stream",
     "text": [
      "\n",
      " 34%|█████████████████████████▍                                                | 22/64 [1:19:48<2:37:40, 225.25s/it]\u001b[A"
     ]
    },
    {
     "name": "stdout",
     "output_type": "stream",
     "text": [
      "Transcription completed in 215.22 seconds.\n",
      "Processing episode #120\t Title: 120 -Tips For Clearing Acne Naturally w/ Maria Marlowe\n"
     ]
    },
    {
     "name": "stderr",
     "output_type": "stream",
     "text": [
      "\n",
      " 36%|██████████████████████████▌                                               | 23/64 [1:22:24<2:19:40, 204.41s/it]\u001b[A"
     ]
    },
    {
     "name": "stdout",
     "output_type": "stream",
     "text": [
      "Transcription completed in 155.80 seconds.\n",
      "Processing episode #121\t Title: 121 - Why a Breast Cancer Diagnosis Led to Finding Better Makeup w/ Jaleh Bisharat\n"
     ]
    },
    {
     "name": "stderr",
     "output_type": "stream",
     "text": [
      "\n",
      " 38%|███████████████████████████▊                                              | 24/64 [1:24:31<2:00:50, 181.27s/it]\u001b[A"
     ]
    },
    {
     "name": "stdout",
     "output_type": "stream",
     "text": [
      "Transcription completed in 127.30 seconds.\n",
      "Processing episode #122\t Title: 122 - Unlocking the Secrets of Fat Loss w/ Dr. Ben Bikman\n"
     ]
    },
    {
     "name": "stderr",
     "output_type": "stream",
     "text": [
      "\n",
      " 39%|████████████████████████████▉                                             | 25/64 [1:28:38<2:10:39, 201.00s/it]\u001b[A"
     ]
    },
    {
     "name": "stdout",
     "output_type": "stream",
     "text": [
      "Transcription completed in 247.03 seconds.\n",
      "Processing episode #123\t Title: 123 - The Hidden Dangers of Mold in your Home w/ Brian Karr\n"
     ]
    },
    {
     "name": "stderr",
     "output_type": "stream",
     "text": [
      "\n",
      " 41%|██████████████████████████████                                            | 26/64 [1:33:03<2:19:19, 219.99s/it]\u001b[A"
     ]
    },
    {
     "name": "stdout",
     "output_type": "stream",
     "text": [
      "Transcription completed in 264.29 seconds.\n",
      "Processing episode #124\t Title: 124 - Are you Treating Back Pain and other Physical Issues Correctly? w/ Dr. Drew Morcos\n"
     ]
    },
    {
     "name": "stderr",
     "output_type": "stream",
     "text": [
      "\n",
      " 42%|███████████████████████████████▏                                          | 27/64 [1:36:40<2:15:15, 219.34s/it]\u001b[A"
     ]
    },
    {
     "name": "stdout",
     "output_type": "stream",
     "text": [
      "Transcription completed in 217.81 seconds.\n",
      "Processing episode #125\t Title: 125 - Tips for Choosing Better at Restaurants w/ Michelle Walrath\n"
     ]
    },
    {
     "name": "stderr",
     "output_type": "stream",
     "text": [
      "\n",
      " 44%|████████████████████████████████▍                                         | 28/64 [1:39:17<2:00:19, 200.53s/it]\u001b[A"
     ]
    },
    {
     "name": "stdout",
     "output_type": "stream",
     "text": [
      "Transcription completed in 156.65 seconds.\n",
      "Processing episode #126\t Title: 126 - Can Infertility Have Hidden Causes? w/ Dr. Kalea Wattles\n"
     ]
    },
    {
     "name": "stderr",
     "output_type": "stream",
     "text": [
      "\n",
      " 45%|█████████████████████████████████▌                                        | 29/64 [1:42:41<1:57:35, 201.59s/it]\u001b[A"
     ]
    },
    {
     "name": "stdout",
     "output_type": "stream",
     "text": [
      "Transcription completed in 204.05 seconds.\n",
      "Processing episode #127\t Title: 127 - Managing Stress through Cold Plunge and Breathing w/ Danny Massa\n"
     ]
    },
    {
     "name": "stderr",
     "output_type": "stream",
     "text": [
      "\n",
      " 47%|██████████████████████████████████▋                                       | 30/64 [1:45:51<1:52:10, 197.95s/it]\u001b[A"
     ]
    },
    {
     "name": "stdout",
     "output_type": "stream",
     "text": [
      "Transcription completed in 189.44 seconds.\n",
      "Processing episode #128\t Title: 128 - Finding Root Causes through your Eyes w/ Jordan Gundersen\n"
     ]
    },
    {
     "name": "stderr",
     "output_type": "stream",
     "text": [
      "\n",
      " 48%|███████████████████████████████████▊                                      | 31/64 [1:48:42<1:44:26, 189.90s/it]\u001b[A"
     ]
    },
    {
     "name": "stdout",
     "output_type": "stream",
     "text": [
      "Transcription completed in 171.12 seconds.\n",
      "Processing episode #12\t Title: 12- Dr. Barb Woegerer and how magnesium can help us in our health journey\n"
     ]
    },
    {
     "name": "stderr",
     "output_type": "stream",
     "text": [
      "\n",
      " 50%|█████████████████████████████████████                                     | 32/64 [1:52:05<1:43:21, 193.80s/it]\u001b[A"
     ]
    },
    {
     "name": "stdout",
     "output_type": "stream",
     "text": [
      "Transcription completed in 202.91 seconds.\n",
      "Processing episode #13\t Title: 13- Dr James DiNicoloantonio and how real salt can benefit our health\n"
     ]
    },
    {
     "name": "stderr",
     "output_type": "stream",
     "text": [
      "\n",
      " 52%|██████████████████████████████████████▏                                   | 33/64 [1:54:19<1:30:57, 176.06s/it]\u001b[A"
     ]
    },
    {
     "name": "stdout",
     "output_type": "stream",
     "text": [
      "Transcription completed in 134.66 seconds.\n",
      "Processing episode #14\t Title: 14 - Dr. Benjamin Bikman and why insulin resistance is such a health problem now\n"
     ]
    },
    {
     "name": "stderr",
     "output_type": "stream",
     "text": [
      "\n",
      " 53%|███████████████████████████████████████▎                                  | 34/64 [1:58:48<1:41:56, 203.87s/it]\u001b[A"
     ]
    },
    {
     "name": "stdout",
     "output_type": "stream",
     "text": [
      "Transcription completed in 268.76 seconds.\n",
      "Processing episode #15\t Title: 15- Scott Schwab and the health benefits of CBD oil\n"
     ]
    },
    {
     "name": "stderr",
     "output_type": "stream",
     "text": [
      "\n",
      " 55%|████████████████████████████████████████▍                                 | 35/64 [2:01:37<1:33:32, 193.52s/it]\u001b[A"
     ]
    },
    {
     "name": "stdout",
     "output_type": "stream",
     "text": [
      "Transcription completed in 169.37 seconds.\n",
      "Processing episode #16\t Title: 16 - Dr. Wil Bulsiewicz, gastroenterologist, talks all things gut health\n"
     ]
    },
    {
     "name": "stderr",
     "output_type": "stream",
     "text": [
      "\n",
      " 56%|█████████████████████████████████████████▋                                | 36/64 [2:05:54<1:39:04, 212.31s/it]\u001b[A"
     ]
    },
    {
     "name": "stdout",
     "output_type": "stream",
     "text": [
      "Transcription completed in 256.14 seconds.\n",
      "Processing episode #17\t Title: 17 - Jimmer Fredette, professional basketball player,  nutrition plays a role in an athlete's career\n"
     ]
    },
    {
     "name": "stderr",
     "output_type": "stream",
     "text": [
      "\n",
      " 58%|██████████████████████████████████████████▊                               | 37/64 [2:10:09<1:41:19, 225.16s/it]\u001b[A"
     ]
    },
    {
     "name": "stdout",
     "output_type": "stream",
     "text": [
      "Transcription completed in 255.15 seconds.\n",
      "Processing episode #18\t Title: 18 - Dr. Maren Locke, dermatologist, all things skin related\n"
     ]
    },
    {
     "name": "stderr",
     "output_type": "stream",
     "text": [
      "\n",
      " 59%|███████████████████████████████████████████▉                              | 38/64 [2:13:16<1:32:37, 213.77s/it]\u001b[A"
     ]
    },
    {
     "name": "stdout",
     "output_type": "stream",
     "text": [
      "Transcription completed in 187.17 seconds.\n",
      "Processing episode #19\t Title: 19 - Dr. Jen Pfleghaar - the role of the immune system and how it's affected by nutrition\n"
     ]
    },
    {
     "name": "stderr",
     "output_type": "stream",
     "text": [
      "\n",
      " 61%|█████████████████████████████████████████████                             | 39/64 [2:16:13<1:24:32, 202.90s/it]\u001b[A"
     ]
    },
    {
     "name": "stdout",
     "output_type": "stream",
     "text": [
      "Transcription completed in 177.55 seconds.\n",
      "Processing episode #1\t Title: 1 - Juanique Roney- The Order of Healing\n"
     ]
    },
    {
     "name": "stderr",
     "output_type": "stream",
     "text": [
      "\n",
      " 62%|██████████████████████████████████████████████▎                           | 40/64 [2:19:33<1:20:43, 201.82s/it]\u001b[A"
     ]
    },
    {
     "name": "stdout",
     "output_type": "stream",
     "text": [
      "Transcription completed in 199.31 seconds.\n",
      "Processing episode #20\t Title: 20 - Shannon Tripp, ER nurse, empowering parents to help children through illness and injury.\n"
     ]
    },
    {
     "name": "stderr",
     "output_type": "stream",
     "text": [
      "\n",
      " 64%|███████████████████████████████████████████████▍                          | 41/64 [2:22:48<1:16:35, 199.81s/it]\u001b[A"
     ]
    },
    {
     "name": "stdout",
     "output_type": "stream",
     "text": [
      "Transcription completed in 195.10 seconds.\n",
      "Processing episode #21\t Title: 21 - Dr. Kathy Yeo, detoxing and the role of EMF's on our health\n"
     ]
    },
    {
     "name": "stderr",
     "output_type": "stream",
     "text": [
      "\n",
      " 66%|████████████████████████████████████████████████▌                         | 42/64 [2:25:36<1:09:49, 190.42s/it]\u001b[A"
     ]
    },
    {
     "name": "stdout",
     "output_type": "stream",
     "text": [
      "Transcription completed in 168.52 seconds.\n",
      "Processing episode #22\t Title: 22 - Dr. Josh Axe, Ancient Remedies and how they help us heal today\n"
     ]
    },
    {
     "name": "stderr",
     "output_type": "stream",
     "text": [
      "\n",
      " 67%|█████████████████████████████████████████████████▋                        | 43/64 [2:28:48<1:06:46, 190.79s/it]\u001b[A"
     ]
    },
    {
     "name": "stdout",
     "output_type": "stream",
     "text": [
      "Transcription completed in 191.64 seconds.\n",
      "Processing episode #23\t Title: 23 - Dr. Natasha Beck a pediatric neuropsychologist, toxins and children's development\n"
     ]
    },
    {
     "name": "stderr",
     "output_type": "stream",
     "text": [
      "\n",
      " 69%|██████████████████████████████████████████████████▉                       | 44/64 [2:31:30<1:00:41, 182.07s/it]\u001b[A"
     ]
    },
    {
     "name": "stdout",
     "output_type": "stream",
     "text": [
      "Transcription completed in 161.72 seconds.\n",
      "Processing episode #24\t Title: 24 - Dr. Jess, MD - parasites and mold: how they can contribute to many common health issue\n"
     ]
    },
    {
     "name": "stderr",
     "output_type": "stream",
     "text": [
      "\n",
      " 70%|█████████████████████████████████████████████████████▍                      | 45/64 [2:34:01<54:43, 172.83s/it]\u001b[A"
     ]
    },
    {
     "name": "stdout",
     "output_type": "stream",
     "text": [
      "Transcription completed in 151.28 seconds.\n",
      "Processing episode #25\t Title: 25- Eden Lee- Mom of 4 Young Children Trying to Live a Nontoxic Lifestyle\n"
     ]
    },
    {
     "name": "stderr",
     "output_type": "stream",
     "text": [
      "\n",
      " 72%|██████████████████████████████████████████████████████▋                     | 46/64 [2:37:36<55:37, 185.41s/it]\u001b[A"
     ]
    },
    {
     "name": "stdout",
     "output_type": "stream",
     "text": [
      "Transcription completed in 214.78 seconds.\n",
      "Processing episode #26\t Title: 26-Dr. Sheila Kilbane, Pediatrician, common illnesses found in children and how to help them\n"
     ]
    },
    {
     "name": "stderr",
     "output_type": "stream",
     "text": [
      "\n",
      " 73%|███████████████████████████████████████████████████████▊                    | 47/64 [2:40:38<52:16, 184.49s/it]\u001b[A"
     ]
    },
    {
     "name": "stdout",
     "output_type": "stream",
     "text": [
      "Transcription completed in 182.34 seconds.\n",
      "Processing episode #27\t Title: 27- Dr. Amy Shah- Intermittent Fasting, All Things You Want To Know About It\n"
     ]
    },
    {
     "name": "stderr",
     "output_type": "stream",
     "text": [
      "\n",
      " 75%|█████████████████████████████████████████████████████████                   | 48/64 [2:43:14<46:53, 175.87s/it]\u001b[A"
     ]
    },
    {
     "name": "stdout",
     "output_type": "stream",
     "text": [
      "Transcription completed in 155.75 seconds.\n",
      "Processing episode #28\t Title: 28 - Dr. Anna Cabeca, how to best help yourself during menopause and peri menopause\n"
     ]
    },
    {
     "name": "stderr",
     "output_type": "stream",
     "text": [
      "\n",
      " 77%|██████████████████████████████████████████████████████████▏                 | 49/64 [2:47:01<47:50, 191.38s/it]\u001b[A"
     ]
    },
    {
     "name": "stdout",
     "output_type": "stream",
     "text": [
      "Transcription completed in 227.58 seconds.\n",
      "Processing episode #29\t Title: 29 - Danielle Walker, author and chef, teaches how to manage auto immune and gut issues.\n"
     ]
    },
    {
     "name": "stderr",
     "output_type": "stream",
     "text": [
      "\n",
      " 78%|███████████████████████████████████████████████████████████▍                | 50/64 [2:50:20<45:09, 193.56s/it]\u001b[A"
     ]
    },
    {
     "name": "stdout",
     "output_type": "stream",
     "text": [
      "Transcription completed in 198.63 seconds.\n",
      "Processing episode #2\t Title: 2 - Michelle Jorgensen - The Importance of Dentistry in Healing Your Body\n"
     ]
    },
    {
     "name": "stderr",
     "output_type": "stream",
     "text": [
      "\n",
      " 80%|████████████████████████████████████████████████████████████▌               | 51/64 [2:53:50<43:00, 198.52s/it]\u001b[A"
     ]
    },
    {
     "name": "stdout",
     "output_type": "stream",
     "text": [
      "Transcription completed in 210.08 seconds.\n",
      "Processing episode #30\t Title: 30 - Dr. Uma Naidoo, Harvard nutritional psychiatrist, discusses how food affects the brain.\n"
     ]
    },
    {
     "name": "stderr",
     "output_type": "stream",
     "text": [
      "\n",
      " 81%|█████████████████████████████████████████████████████████████▊              | 52/64 [2:56:43<38:10, 190.85s/it]\u001b[A"
     ]
    },
    {
     "name": "stdout",
     "output_type": "stream",
     "text": [
      "Transcription completed in 172.96 seconds.\n",
      "Processing episode #31\t Title: 31 Sara-Chana Silverstein, Master Herbalist, how herbs can help improve your health\n"
     ]
    },
    {
     "name": "stderr",
     "output_type": "stream",
     "text": [
      "\n",
      " 83%|██████████████████████████████████████████████████████████████▉             | 53/64 [2:59:55<35:02, 191.12s/it]\u001b[A"
     ]
    },
    {
     "name": "stdout",
     "output_type": "stream",
     "text": [
      "Transcription completed in 191.74 seconds.\n",
      "Processing episode #32\t Title: 32- Ashleigh DiLello, Mind coach and Creator of Bio Emotional healing.\n"
     ]
    },
    {
     "name": "stderr",
     "output_type": "stream",
     "text": [
      "\n",
      " 84%|████████████████████████████████████████████████████████████████▏           | 54/64 [3:03:01<31:36, 189.61s/it]\u001b[A"
     ]
    },
    {
     "name": "stdout",
     "output_type": "stream",
     "text": [
      "Transcription completed in 186.08 seconds.\n",
      "Processing episode #33\t Title: 33- Dr. Tabatha Barber, OBGYN, What Affects Our Hormones\n"
     ]
    },
    {
     "name": "stderr",
     "output_type": "stream",
     "text": [
      "\n",
      " 86%|█████████████████████████████████████████████████████████████████▎          | 55/64 [3:06:11<28:28, 189.86s/it]\u001b[A"
     ]
    },
    {
     "name": "stdout",
     "output_type": "stream",
     "text": [
      "Transcription completed in 190.44 seconds.\n",
      "Processing episode #34\t Title: 34 - Lillie Biesinger, counting macros and eating nutritiously\n"
     ]
    },
    {
     "name": "stderr",
     "output_type": "stream",
     "text": [
      "\n",
      " 88%|██████████████████████████████████████████████████████████████████▌         | 56/64 [3:09:49<26:24, 198.11s/it]\u001b[A"
     ]
    },
    {
     "name": "stdout",
     "output_type": "stream",
     "text": [
      "Transcription completed in 217.35 seconds.\n",
      "Processing episode #35\t Title: 35 - Jody Moore, Life Coach, Navigating Negative Body Image and Feelings of Inadequacy in Life\n"
     ]
    },
    {
     "name": "stderr",
     "output_type": "stream",
     "text": [
      "\n",
      " 89%|███████████████████████████████████████████████████████████████████▋        | 57/64 [3:12:45<22:21, 191.61s/it]\u001b[A"
     ]
    },
    {
     "name": "stdout",
     "output_type": "stream",
     "text": [
      "Transcription completed in 176.44 seconds.\n",
      "Processing episode #36\t Title: 36 - Marco and Aubrey Niccoli, tips on healthy cooking from famous professional chefs\n"
     ]
    },
    {
     "name": "stderr",
     "output_type": "stream",
     "text": [
      "\n",
      " 91%|████████████████████████████████████████████████████████████████████▉       | 58/64 [3:15:57<19:09, 191.62s/it]\u001b[A"
     ]
    },
    {
     "name": "stdout",
     "output_type": "stream",
     "text": [
      "Transcription completed in 191.64 seconds.\n",
      "Processing episode #37\t Title: 37- Dr. Lyndi Jones and Dr. Michelle Jorgensen: how pediatric health issues related to dental health\n"
     ]
    },
    {
     "name": "stderr",
     "output_type": "stream",
     "text": [
      "\n",
      " 92%|██████████████████████████████████████████████████████████████████████      | 59/64 [3:19:40<16:45, 201.00s/it]\u001b[A"
     ]
    },
    {
     "name": "stdout",
     "output_type": "stream",
     "text": [
      "Transcription completed in 222.89 seconds.\n",
      "Processing episode #38\t Title: 38- Dr. Heather McKee - Health behavior change psychologist\n"
     ]
    },
    {
     "name": "stderr",
     "output_type": "stream",
     "text": [
      "\n",
      " 94%|███████████████████████████████████████████████████████████████████████▎    | 60/64 [3:23:17<13:43, 205.93s/it]\u001b[A"
     ]
    },
    {
     "name": "stdout",
     "output_type": "stream",
     "text": [
      "Transcription completed in 217.44 seconds.\n",
      "Processing episode #39\t Title: 39-Dr. Ana Maria Temple, pediatrician, how to best help your child with winter illness\n"
     ]
    },
    {
     "name": "stderr",
     "output_type": "stream",
     "text": [
      "\n",
      " 95%|████████████████████████████████████████████████████████████████████████▍   | 61/64 [3:27:02<10:34, 211.52s/it]\u001b[A"
     ]
    },
    {
     "name": "stdout",
     "output_type": "stream",
     "text": [
      "Transcription completed in 224.54 seconds.\n",
      "Processing episode #3\t Title: 3 - Dr. Carrie Jones -- Helping and Healing Your Hormones\n"
     ]
    },
    {
     "name": "stderr",
     "output_type": "stream",
     "text": [
      "\n",
      " 97%|█████████████████████████████████████████████████████████████████████████▋  | 62/64 [3:30:28<07:00, 210.07s/it]\u001b[A"
     ]
    },
    {
     "name": "stdout",
     "output_type": "stream",
     "text": [
      "Transcription completed in 206.68 seconds.\n",
      "Processing episode #40\t Title: 40 - Surgeon Dr. Cazzell, what diabetics need to know and the importance of foot and wound care\n"
     ]
    },
    {
     "name": "stderr",
     "output_type": "stream",
     "text": [
      "\n",
      " 98%|██████████████████████████████████████████████████████████████████████████▊ | 63/64 [3:33:08<03:15, 195.01s/it]\u001b[A"
     ]
    },
    {
     "name": "stdout",
     "output_type": "stream",
     "text": [
      "Transcription completed in 159.88 seconds.\n",
      "Processing episode #41\t Title: 41- Shayna Terese Taylor - famous chef talks about cooking with whole nutritious foods\n"
     ]
    },
    {
     "name": "stderr",
     "output_type": "stream",
     "text": [
      "\n",
      "100%|████████████████████████████████████████████████████████████████████████████| 64/64 [3:36:35<00:00, 203.05s/it]\u001b[A"
     ]
    },
    {
     "name": "stdout",
     "output_type": "stream",
     "text": [
      "Transcription completed in 206.26 seconds.\n"
     ]
    },
    {
     "name": "stderr",
     "output_type": "stream",
     "text": [
      "\n"
     ]
    }
   ],
   "source": [
    "for path in tqdm(subset):\n",
    "    try:\n",
    "        meta = transcribe_podcast(model, path, transcript_dir, cache)\n",
    "    except Exception as e:\n",
    "        print(f'Error with {path}: {e}')\n",
    "        continue        "
   ]
  },
  {
   "cell_type": "code",
   "execution_count": 8,
   "id": "ba96c592-a023-41c9-b7f5-da558548f2ca",
   "metadata": {},
   "outputs": [],
   "source": [
    "def create_video_url(video_id: str, playlist_id: str='PL8qcvQ7Byc3OJ02hbWJbHWePh4XEg3cvo'):\n",
    "    return f'https://www.youtube.com/watch?v={video_id}&list={playlist_id}'"
   ]
  },
  {
   "cell_type": "code",
   "execution_count": null,
   "id": "b7879016-9dac-48b4-b9a6-5e68a13a3bd6",
   "metadata": {},
   "outputs": [],
   "source": []
  }
 ],
 "metadata": {
  "kernelspec": {
   "display_name": "openai",
   "language": "python",
   "name": "openai"
  },
  "language_info": {
   "codemirror_mode": {
    "name": "ipython",
    "version": 3
   },
   "file_extension": ".py",
   "mimetype": "text/x-python",
   "name": "python",
   "nbconvert_exporter": "python",
   "pygments_lexer": "ipython3",
   "version": "3.10.13"
  }
 },
 "nbformat": 4,
 "nbformat_minor": 5
}
